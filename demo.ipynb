{
 "cells": [
  {
   "cell_type": "markdown",
   "id": "ff99daaa",
   "metadata": {},
   "source": [
    "# Demo"
   ]
  },
  {
   "cell_type": "code",
   "execution_count": 4,
   "id": "19f24a0d",
   "metadata": {},
   "outputs": [
    {
     "name": "stdout",
     "output_type": "stream",
     "text": [
      "Loading model from: paligemma2-3b-mix-224\n",
      "Using device: mps\n",
      "\n",
      "[Prompt] describe\n",
      "[Output] Two colorful parrots stand side-by-side, their vibrant feathers on full display. The green parrot on the left showcases its vibrant blue neck and red head, while the right side's parrot boasts a yellow chest and green feathers on its head. The birds' beaks gleam with black and white hues, mirroring the black and white eye on each side. The green plant behind the birds provides a contrasting backdrop, while the blurred background creates a sense of depth.<eos>\n",
      "[Stats] 94 tokens in 27.61s (3.4 tokens/s)\n",
      "\n"
     ]
    }
   ],
   "source": [
    "from inference import SimpleInference\n",
    "\n",
    "# Initialize model\n",
    "engine = SimpleInference()\n",
    "\n",
    "# Generate description\n",
    "engine.generate(\n",
    "    image_path=\"examples/image.png\",\n",
    "    prompt=\"describe\",\n",
    "    max_tokens=1024,\n",
    "    temperature=0.8,\n",
    "    top_p = 0.9\n",
    ")\n",
    "\n"
   ]
  },
  {
   "cell_type": "code",
   "execution_count": null,
   "id": "c0695da1",
   "metadata": {},
   "outputs": [],
   "source": []
  }
 ],
 "metadata": {
  "kernelspec": {
   "display_name": "paligemma2",
   "language": "python",
   "name": "python3"
  },
  "language_info": {
   "codemirror_mode": {
    "name": "ipython",
    "version": 3
   },
   "file_extension": ".py",
   "mimetype": "text/x-python",
   "name": "python",
   "nbconvert_exporter": "python",
   "pygments_lexer": "ipython3",
   "version": "3.13.5"
  }
 },
 "nbformat": 4,
 "nbformat_minor": 5
}
