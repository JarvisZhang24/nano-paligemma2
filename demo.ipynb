{
 "cells": [
  {
   "cell_type": "markdown",
   "id": "ff99daaa",
   "metadata": {},
   "source": [
    "# Demo"
   ]
  },
  {
   "cell_type": "code",
   "execution_count": null,
   "id": "19f24a0d",
   "metadata": {},
   "outputs": [],
   "source": [
    "from inference import SimpleInference\n",
    "\n",
    "# Initialize model\n",
    "engine = SimpleInference()\n",
    "\n",
    "# Generate description\n",
    "engine.generate(\n",
    "    image_path=\"examples/image.png\",\n",
    "    prompt=\"describe\",\n",
    "    max_tokens=1024,\n",
    "    temperature=0.8,\n",
    "    top_p = 0.9\n",
    ")\n",
    "\n"
   ]
  },
  {
   "cell_type": "markdown",
   "id": "0b892a18",
   "metadata": {},
   "source": [
    "# Step 1: Prepare the image and prompt"
   ]
  },
  {
   "cell_type": "code",
   "execution_count": null,
   "id": "c0695da1",
   "metadata": {},
   "outputs": [],
   "source": []
  }
 ],
 "metadata": {
  "kernelspec": {
   "display_name": "paligemma2",
   "language": "python",
   "name": "python3"
  },
  "language_info": {
   "codemirror_mode": {
    "name": "ipython",
    "version": 3
   },
   "file_extension": ".py",
   "mimetype": "text/x-python",
   "name": "python",
   "nbconvert_exporter": "python",
   "pygments_lexer": "ipython3",
   "version": "3.13.5"
  }
 },
 "nbformat": 4,
 "nbformat_minor": 5
}
